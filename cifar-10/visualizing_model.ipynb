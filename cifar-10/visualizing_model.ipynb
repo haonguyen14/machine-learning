{
 "cells": [
  {
   "cell_type": "code",
   "execution_count": 1,
   "metadata": {
    "collapsed": true
   },
   "outputs": [],
   "source": [
    "import tensorflow as tf\n",
    "import src.input_pipeline as ip\n",
    "from src.pooling import *\n",
    "from src.restore_model import *\n",
    "from src.verify import *\n",
    "from PIL import Image\n",
    "import numpy as np\n"
   ]
  },
  {
   "cell_type": "code",
   "execution_count": 2,
   "metadata": {
    "collapsed": true
   },
   "outputs": [],
   "source": [
    "session = tf.Session()"
   ]
  },
  {
   "cell_type": "code",
   "execution_count": 3,
   "metadata": {
    "collapsed": true
   },
   "outputs": [],
   "source": [
    "file_name = [\"data/test_batch.bin\"]\n",
    "pipeline = ip.DataPipeline(file_name)\n",
    "x, y = pipeline.get_batch_op()"
   ]
  },
  {
   "cell_type": "code",
   "execution_count": 4,
   "metadata": {
    "collapsed": false,
    "scrolled": false
   },
   "outputs": [
    {
     "data": {
      "text/plain": [
       "[<Thread(Thread-4, started daemon 139901630666496)>,\n",
       " <Thread(Thread-5, started daemon 139901622273792)>]"
      ]
     },
     "execution_count": 4,
     "metadata": {},
     "output_type": "execute_result"
    }
   ],
   "source": [
    "tf.train.start_queue_runners(sess=session)"
   ]
  },
  {
   "cell_type": "code",
   "execution_count": 5,
   "metadata": {
    "collapsed": false
   },
   "outputs": [],
   "source": [
    "model = build_model(session, x, \"exp_2\", tf.nn.relu)"
   ]
  },
  {
   "cell_type": "code",
   "execution_count": 6,
   "metadata": {
    "collapsed": false
   },
   "outputs": [],
   "source": [
    "conved_1 = model._convo_1\n",
    "pooled_1 = model._max_pool_1\n",
    "switches_1 = model._max_switches_1\n",
    "with tf.variable_scope(\"\", reuse=True):\n",
    "    kernel_1 = tf.get_variable(shape=[5, 5, 3, 64], name=\"convo_1_weights\")\n",
    "    \n",
    "conved_2 = model._convo_2\n",
    "pooled_2 = model._max_pool_2\n",
    "switches_2 = model._max_switches_2\n",
    "with tf.variable_scope(\"\", reuse=True):\n",
    "    kernel_2 = tf.get_variable(shape=[2, 2, 64, 64], name=\"convo_2_weights\")"
   ]
  },
  {
   "cell_type": "code",
   "execution_count": 7,
   "metadata": {
    "collapsed": true
   },
   "outputs": [],
   "source": [
    "unpooled_2 = unpooling(pooled_2, switches_2, [100, 8, 8, 64], [100, 16, 16, 64])\n",
    "deconvo_relu_2 = tf.nn.relu(unpooled_2)\n",
    "deconvo_2 = tf.nn.conv2d_transpose(deconvo_relu_2, kernel_2, [100, 16, 16, 64], strides=[1, 1, 1, 1])\n",
    "unpooled_2_1 = unpooling(deconvo_2, switches_1, [100, 16, 16, 64], [100, 32, 32, 64])\n",
    "deconvo_relu_2_1 = tf.nn.relu(unpooled_2_1)\n",
    "deconvo_2_1 = tf.nn.conv2d_transpose(deconvo_relu_2_1, kernel_1, [100, 32, 32, 3], strides=[1, 1, 1, 1])\n",
    "\n",
    "unpooled_1 = unpooling(pooled_1, switches_1, [100, 16, 16, 64], [100, 32, 32, 64])\n",
    "deconvo_relu_1 = tf.nn.relu(unpooled_1)\n",
    "deconvo_1 = tf.nn.conv2d_transpose(deconvo_relu_1, kernel_1, [100, 32, 32, 3], strides=[1, 1, 1, 1])"
   ]
  },
  {
   "cell_type": "code",
   "execution_count": 8,
   "metadata": {
    "collapsed": false
   },
   "outputs": [],
   "source": [
    "_x, a, b = session.run([x, deconvo_1, deconvo_2_1])"
   ]
  },
  {
   "cell_type": "code",
   "execution_count": 19,
   "metadata": {
    "collapsed": false
   },
   "outputs": [
    {
     "data": {
      "image/png": "[encoded data removed]",
      "text/plain": [
       "<PIL.Image.Image image mode=RGB size=32x32 at 0x7F3D981179D0>"
      ]
     },
     "execution_count": 19,
     "metadata": {},
     "output_type": "execute_result"
    }
   ],
   "source": [
    "a_img = normalize_image(a[16, :, :, :])\n",
    "img = Image.fromarray(a_img.astype(np.uint8), \"RGB\")\n",
    "img"
   ]
  },
  {
   "cell_type": "code",
   "execution_count": 20,
   "metadata": {
    "collapsed": false
   },
   "outputs": [
    {
     "data": {
      "image/png": "[encoded data removed]",
      "text/plain": [
       "<PIL.Image.Image image mode=RGB size=32x32 at 0x7F3D98117B50>"
      ]
     },
     "execution_count": 20,
     "metadata": {},
     "output_type": "execute_result"
    }
   ],
   "source": [
    "a_img = normalize_image(b[16, :, :, :])\n",
    "img = Image.fromarray(a_img.astype(np.uint8), \"RGB\")\n",
    "img"
   ]
  },
  {
   "cell_type": "code",
   "execution_count": 21,
   "metadata": {
    "collapsed": false
   },
   "outputs": [
    {
     "data": {
      "image/png": "[encoded data removed]",
      "text/plain": [
       "<PIL.Image.Image image mode=RGB size=32x32 at 0x7F3D98117ED0>"
      ]
     },
     "execution_count": 21,
     "metadata": {},
     "output_type": "execute_result"
    }
   ],
   "source": [
    "a_img = normalize_image(_x[16, :, :, :])\n",
    "img = Image.fromarray(a_img.astype(np.uint8), \"RGB\")\n",
    "img"
   ]
  },
  {
   "cell_type": "code",
   "execution_count": null,
   "metadata": {
    "collapsed": true
   },
   "outputs": [],
   "source": []
  }
 ],
 "metadata": {
  "kernelspec": {
   "display_name": "Python 2",
   "language": "python",
   "name": "python2"
  },
  "language_info": {
   "codemirror_mode": {
    "name": "ipython",
    "version": 2
   },
   "file_extension": ".py",
   "mimetype": "text/x-python",
   "name": "python",
   "nbconvert_exporter": "python",
   "pygments_lexer": "ipython2",
   "version": "2.7.12"
  }
 },
 "nbformat": 4,
 "nbformat_minor": 0
}
